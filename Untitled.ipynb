{
 "cells": [
  {
   "cell_type": "code",
   "execution_count": 3,
   "id": "54f91268",
   "metadata": {},
   "outputs": [],
   "source": [
    "from collections import Counter\n"
   ]
  },
  {
   "cell_type": "code",
   "execution_count": null,
   "id": "77961b81",
   "metadata": {},
   "outputs": [],
   "source": []
  },
  {
   "cell_type": "code",
   "execution_count": 2,
   "id": "45d4b623",
   "metadata": {},
   "outputs": [
    {
     "name": "stdout",
     "output_type": "stream",
     "text": [
      "Unigram Frequencies:\n",
      "Counter({'the': 3, 'sentence.': 3, 'this': 2, 'is': 2, 'first': 1, 'here': 1, 'comes': 1, 'second': 1, 'and': 1, 'third': 1})\n",
      "\n",
      "Unigram Probabilities:\n",
      "{'this': 0.125, 'is': 0.125, 'the': 0.1875, 'first': 0.0625, 'sentence.': 0.1875, 'here': 0.0625, 'comes': 0.0625, 'second': 0.0625, 'and': 0.0625, 'third': 0.0625}\n",
      "\n",
      "Bigram Frequencies:\n",
      "Counter({('this', 'is'): 2, ('is', 'the'): 2, ('the', 'first'): 1, ('first', 'sentence.'): 1, ('sentence.', 'here'): 1, ('here', 'comes'): 1, ('comes', 'the'): 1, ('the', 'second'): 1, ('second', 'sentence.'): 1, ('sentence.', 'and'): 1, ('and', 'this'): 1, ('the', 'third'): 1, ('third', 'sentence.'): 1})\n",
      "\n",
      "Bigram Probabilities:\n",
      "{('this', 'is'): 0.13333333333333333, ('is', 'the'): 0.13333333333333333, ('the', 'first'): 0.06666666666666667, ('first', 'sentence.'): 0.06666666666666667, ('sentence.', 'here'): 0.06666666666666667, ('here', 'comes'): 0.06666666666666667, ('comes', 'the'): 0.06666666666666667, ('the', 'second'): 0.06666666666666667, ('second', 'sentence.'): 0.06666666666666667, ('sentence.', 'and'): 0.06666666666666667, ('and', 'this'): 0.06666666666666667, ('the', 'third'): 0.06666666666666667, ('third', 'sentence.'): 0.06666666666666667}\n"
     ]
    }
   ],
   "source": [
    "\n",
    "\n",
    "def compute_unigram_probabilities(corpus):\n",
    "    words = [word.lower() for sentence in corpus for word in sentence.split()] # ----- 1 -----\n",
    "    # equivalent de la ligne précédente : ----- 1 -----\n",
    "    # words = []\n",
    "    # for sentence in corpus:\n",
    "    #     for word in sentence.split():\n",
    "    #         words.append(word.lower())\n",
    "    total_words = len(words)\n",
    "    unigram_frequencies = Counter(words)\n",
    "    unigram_probabilities = {word: freq / total_words for word, freq in unigram_frequencies.items()}\n",
    "    return unigram_frequencies, unigram_probabilities\n",
    "\n",
    "def compute_bigram_probabilities(corpus):\n",
    "    words = [word.lower() for sentence in corpus for word in sentence.split()]\n",
    "    total_bigrams = len(words) - 1\n",
    "    bigrams = [(words[i], words[i + 1]) for i in range(total_bigrams)]\n",
    "    bigram_frequencies = Counter(bigrams)\n",
    "    bigram_probabilities = {bigram: freq / total_bigrams for bigram, freq in bigram_frequencies.items()}\n",
    "    return bigram_frequencies, bigram_probabilities\n",
    "\n",
    "# Example sentences\n",
    "sentences = [\n",
    "    \"This is the first sentence.\",\n",
    "    \"Here comes the second sentence.\",\n",
    "    \"And this is the third sentence.\"\n",
    "]\n",
    "\n",
    "# Compute unigram frequencies and probabilities\n",
    "unigram_frequencies, unigram_probabilities = compute_unigram_probabilities(sentences)\n",
    "\n",
    "print(\"Unigram Frequencies:\")\n",
    "print(unigram_frequencies)\n",
    "\n",
    "print(\"\\nUnigram Probabilities:\")\n",
    "print(unigram_probabilities)\n",
    "\n",
    "# Compute bigram frequencies and probabilities\n",
    "bigram_frequencies, bigram_probabilities = compute_bigram_probabilities(sentences)\n",
    "\n",
    "print(\"\\nBigram Frequencies:\")\n",
    "print(bigram_frequencies)\n",
    "\n",
    "print(\"\\nBigram Probabilities:\")\n",
    "print(bigram_probabilities)"
   ]
  },
  {
   "cell_type": "code",
   "execution_count": null,
   "id": "283dd590",
   "metadata": {},
   "outputs": [],
   "source": []
  }
 ],
 "metadata": {
  "kernelspec": {
   "display_name": "Python 3 (ipykernel)",
   "language": "python",
   "name": "python3"
  },
  "language_info": {
   "codemirror_mode": {
    "name": "ipython",
    "version": 3
   },
   "file_extension": ".py",
   "mimetype": "text/x-python",
   "name": "python",
   "nbconvert_exporter": "python",
   "pygments_lexer": "ipython3",
   "version": "3.11.5"
  }
 },
 "nbformat": 4,
 "nbformat_minor": 5
}
