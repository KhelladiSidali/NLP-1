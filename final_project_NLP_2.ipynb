{
 "cells": [
  {
   "cell_type": "markdown",
   "id": "ad072732",
   "metadata": {},
   "source": [
    "**KHELLADI Sid Ali**\n",
    "\n",
    "**DOUID Mohamed**\n"
   ]
  },
  {
   "cell_type": "markdown",
   "id": "8819fe2a",
   "metadata": {},
   "source": [
    "# I) Back-end"
   ]
  },
  {
   "cell_type": "markdown",
   "id": "5284cdd4",
   "metadata": {},
   "source": [
    "- **Named Entity Recognition:** we use the idea of “lab 02” to compute the transitionuni-gram and bi-gram matrices that contain the probabilities of the different NER tags."
   ]
  },
  {
   "cell_type": "code",
   "execution_count": 7,
   "id": "5b087599",
   "metadata": {
    "scrolled": true
   },
   "outputs": [
    {
     "name": "stderr",
     "output_type": "stream",
     "text": [
      "[nltk_data] Downloading package punkt to\n",
      "[nltk_data]     C:\\Users\\Utilisateur\\AppData\\Roaming\\nltk_data...\n",
      "[nltk_data]   Package punkt is already up-to-date!\n"
     ]
    },
    {
     "name": "stdout",
     "output_type": "stream",
     "text": [
      "Le DataFrame a été enregistré dans le fichier unigram_probs.xlsx\n",
      "Le DataFrame a été enregistré dans le fichier bigram_probs.xlsx\n"
     ]
    }
   ],
   "source": [
    "%run final_project_NLP_1.ipynb"
   ]
  },
  {
   "cell_type": "code",
   "execution_count": null,
   "id": "b786a441",
   "metadata": {},
   "outputs": [],
   "source": []
  }
 ],
 "metadata": {
  "kernelspec": {
   "display_name": "Python 3 (ipykernel)",
   "language": "python",
   "name": "python3"
  },
  "language_info": {
   "codemirror_mode": {
    "name": "ipython",
    "version": 3
   },
   "file_extension": ".py",
   "mimetype": "text/x-python",
   "name": "python",
   "nbconvert_exporter": "python",
   "pygments_lexer": "ipython3",
   "version": "3.11.5"
  }
 },
 "nbformat": 4,
 "nbformat_minor": 5
}
