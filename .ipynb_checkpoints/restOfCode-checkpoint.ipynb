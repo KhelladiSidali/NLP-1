{
 "cells": [
  {
   "cell_type": "markdown",
   "id": "542af5c1",
   "metadata": {},
   "source": [
    "**3) Reconnaissance d'Entités Nommées (NER)**"
   ]
  },
  {
   "cell_type": "code",
   "execution_count": 7,
   "id": "b6682db3",
   "metadata": {},
   "outputs": [],
   "source": [
    "def compute_ner_transition_matrices(tags):\n",
    "    unigram_counts = Counter(tags)\n",
    "    bigram_counts = Counter(zip(tags, tags[1:]))\n",
    "\n",
    "    total_unigrams = sum(unigram_counts.values())\n",
    "    total_bigrams = sum(bigram_counts.values())\n",
    "\n",
    "    unigram_probs = {tag: count / total_unigrams for tag, count in unigram_counts.items()}\n",
    "    bigram_probs = {bigram: count / total_bigrams for bigram, count in bigram_counts.items()}\n",
    "\n",
    "    return unigram_probs, bigram_probs\n"
   ]
  },
  {
   "cell_type": "markdown",
   "id": "4330438f",
   "metadata": {},
   "source": [
    "**4) Modélisation des Sujets (Topics Modeling)**"
   ]
  },
  {
   "cell_type": "code",
   "execution_count": 8,
   "id": "d4c3b3e7",
   "metadata": {},
   "outputs": [],
   "source": [
    "def topic_modeling(texts, num_topics=3):\n",
    "    dictionary = corpora.Dictionary(texts)\n",
    "    corpus = [dictionary.doc2bow(text) for text in texts]\n",
    "    ldamodel = models.LdaModel(corpus, num_topics=num_topics, id2word=dictionary, passes=15)\n",
    "    topics = ldamodel.print_topics(num_words=4)\n",
    "    return topics\n"
   ]
  },
  {
   "cell_type": "markdown",
   "id": "2649d373",
   "metadata": {},
   "source": [
    "**5) Traduction**"
   ]
  },
  {
   "cell_type": "code",
   "execution_count": 9,
   "id": "28e623f1",
   "metadata": {},
   "outputs": [],
   "source": [
    "def translate_text(text, src_lang='en', tgt_lang='fr'):\n",
    "    model_name = f'Helsinki-NLP/opus-mt-{src_lang}-{tgt_lang}'\n",
    "    model = MarianMTModel.from_pretrained(model_name)\n",
    "    tokenizer = MarianTokenizer.from_pretrained(model_name)\n",
    "    \n",
    "    translated = model.generate(**tokenizer(text, return_tensors=\"pt\", padding=True))\n",
    "    translation = [tokenizer.decode(t, skip_special_tokens=True) for t in translated]\n",
    "    return translation\n"
   ]
  },
  {
   "cell_type": "markdown",
   "id": "03723346",
   "metadata": {},
   "source": [
    "# II) Front-end "
   ]
  },
  {
   "cell_type": "code",
   "execution_count": 10,
   "id": "8bda96d5",
   "metadata": {},
   "outputs": [],
   "source": [
    "from flask import Flask, request, jsonify"
   ]
  },
  {
   "cell_type": "markdown",
   "id": "1153fdcd",
   "metadata": {},
   "source": [
    "**1) Interface Utilisateur**"
   ]
  },
  {
   "cell_type": "code",
   "execution_count": null,
   "id": "ee58de0a",
   "metadata": {},
   "outputs": [
    {
     "name": "stdout",
     "output_type": "stream",
     "text": [
      " * Serving Flask app '__main__'\n",
      " * Debug mode: on\n"
     ]
    },
    {
     "name": "stderr",
     "output_type": "stream",
     "text": [
      "WARNING: This is a development server. Do not use it in a production deployment. Use a production WSGI server instead.\n",
      " * Running on http://127.0.0.1:5000\n",
      "Press CTRL+C to quit\n"
     ]
    }
   ],
   "source": [
    "from flask import Flask, request, jsonify\n",
    "\n",
    "app = Flask(__name__)\n",
    "\n",
    "@app.route('/')\n",
    "def index():\n",
    "    return 'Hello, World!'\n",
    "\n",
    "@app.route('/api/data', methods=['POST'])\n",
    "def get_data():\n",
    "    data = request.get_json()\n",
    "    response = {'received': data}\n",
    "    return jsonify(response)\n",
    "\n",
    "if __name__ == '__main__':\n",
    "    try:\n",
    "        app.run(debug=True, use_reloader=False)\n",
    "    except Exception as e:\n",
    "        print(f\"An error occurred: {e}\")\n"
   ]
  },
  {
   "cell_type": "code",
   "execution_count": null,
   "id": "d4dc4c1f",
   "metadata": {},
   "outputs": [],
   "source": []
  }
 ],
 "metadata": {
  "kernelspec": {
   "display_name": "Python 3 (ipykernel)",
   "language": "python",
   "name": "python3"
  },
  "language_info": {
   "codemirror_mode": {
    "name": "ipython",
    "version": 3
   },
   "file_extension": ".py",
   "mimetype": "text/x-python",
   "name": "python",
   "nbconvert_exporter": "python",
   "pygments_lexer": "ipython3",
   "version": "3.11.5"
  }
 },
 "nbformat": 4,
 "nbformat_minor": 5
}
